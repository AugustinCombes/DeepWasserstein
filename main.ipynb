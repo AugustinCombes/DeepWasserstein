{
 "cells": [
  {
   "attachments": {},
   "cell_type": "markdown",
   "metadata": {},
   "source": [
    "# Does Wasserstein-GAN approximate Wasserstein distances?\n",
    "\n",
    "[![Open In Colab](https://colab.research.google.com/assets/colab-badge.svg)](https://colab.research.google.com/github/AugustinCombes/DeepWasserstein/blob/main/main.ipynb)\n",
    "[![Binder](https://mybinder.org/badge_logo.svg)](https://mybinder.org/v2/gh/AugustinCombes/DeepWasserstein/main?labpath=main.ipynb)\n",
    "[![GitHub](https://badgen.net/badge/icon/github?icon=github&label)](https://github.com/AugustinCombes/DeepWasserstein/blob/main/main.ipynb)\n",
    "\n",
    "*Group project for the [Optimal Transport course](http://marcocuturi.net/ot.html) at ENSAE teached by Marco Cuturi (spring 2023).*\n",
    "\n",
    "- Augustin Combes\n",
    "- Gabriel Watkinson\n",
    "\n",
    "---"
   ]
  },
  {
   "attachments": {},
   "cell_type": "markdown",
   "metadata": {},
   "source": [
    "## I. Motivations\n",
    "\n",
    "The goal of this notebook is to explore whether Wasserstein-GAN (WGAN) can effectively approximate Wasserstein distances. WGAN, introduced in the 2017 [paper](https://arxiv.org/abs/1701.07875) by Arjovsky et al. [1], proposes a neural network-based proxy for the 1-Wasserstein distance, but it is unclear how well this approximation holds up in practice.\n",
    "\n",
    "To investigate this question, we will implement the WGAN approach to solve Optimal Transport and compare it with other approaches, such as Sinkhorn divergence. Our aim is to determine if WGAN can compute a quantity that is truly similar to “true” optimal transport.\n",
    "\n",
    "### I.1. Context\n",
    "\n",
    "The WGAN paper proposes a new approach to learning a probability distribution by leveraging Optimal Transport theory.\n",
    "Traditionally, learning a probability distribution involves maximizing the likelihood on the data across a family of parametric densities, denoted as $(P_\\theta)_{\\theta \\in \\mathbb{R}}$. This is equivalent to minimizing the Kullback-Leibler divergence between the real distribution $\\mathbb{P}_r$ and the model distribution $\\mathbb{P}_\\theta$: $KL(\\mathbb{P}_r|| \\mathbb{P}_\\theta)$. However, in many cases, the model density $P_\\theta$ does not exist, and the Kullback-Leibler divergence is undefined.\n",
    "\n",
    "To remedy to this problem, sampling directly from the target distribution $\\mathbb{P}_\\theta$ using a generator that maps random noise to a sample from the target distribution is another common approach, most known for its use in the [Variational Auto-Encoder](https://arxiv.org/abs/1312.6114) (VAE) [2] and the [original GAN](https://arxiv.org/abs/1406.2661) [3].\n",
    "\n",
    "Arjovsky et al. propose a new approach based on Optimal Transport theory, expanding upon the idea of GANs. Traditional GANs are notoriously difficult to train, as a unstable equilibrium between the generator and discriminator is needed, and their results may suffer from mode collapse, in which the generator only produces a few samples that are very similar. WGAN is more stable and easier to tune than traditional GANs, using a proxy to the Wasserstein distance via neural nets. Our aim in this project is to investigate whether WGAN is a promising approach to solving Optimal Transport problems.\n",
    "\n",
    "\n",
    "> [1]: Arjovsky, Martin, Soumith Chintala, and Léon Bottou. \"Wasserstein generative adversarial networks.\" International conference on machine learning. PMLR, 2017. https://arxiv.org/abs/1701.07875  \n",
    "> [2]: Kingma, Diederik P., and Max Welling. \"Auto-encoding variational bayes.\" arXiv preprint arXiv:1312.6114 (2013). https://arxiv.org/abs/1312.6114  \n",
    "> [3]: Goodfellow, Ian, et al. \"Generative adversarial networks.\" Communications of the ACM 63.11 (2020): 139-144. https://arxiv.org/abs/1406.2661\n",
    "\n",
    "\n",
    "### I.2. Theory\n",
    "\n",
    "Unlike in GANs, where the generator's loss is the binary cross-entropy between the discriminator's output and a target value indicating whether the generated sample is real or fake, WGAN use the Wasserstein-1 distance (also known as the Earth Mover's Distance) to measure the difference between the real and generated distributions:\n",
    "\n",
    "$$\n",
    "W(\\mathbb{P}_r, \\mathbb{P}_g) = \\inf_{\\gamma \\in \\Pi(\\mathbb{P}_r, \\mathbb{P}_g)}\\mathbb{E}_{(x, y)\\sim\\gamma}[\\vert\\vert x-y\\vert\\vert]\n",
    "$$\n",
    "where $\\Pi(\\mathbb{P}_r, \\mathbb{P}_g)$ denotes all joint distributions $\\gamma (x,y)$ whose marginals are respectively $\\mathbb{P}_r$ and $\\mathbb{P}_g$.\n",
    "\n",
    "However, this formulation is highly impractical, as it is not tractable and can't be used in practice. Instead, WGAN uses the Kantorovich-Rubinstein equivalent:\n",
    "\n",
    "$$\n",
    "W(\\mathbb{P}_r, \\mathbb{P}_\\theta) = \\sup_{\\vert\\vert f_L\\vert \\vert \\leq 1}\\mathbb{E}_{x_1\\sim\\mathbb{P}_r}[f(x)] - \\mathbb{E}_{x_2\\sim\\mathbb{P}_\\theta}[f(x_2)]\n",
    "$$\n",
    "\n",
    "More precisely, we will search $f$ as a parametrized function $f_w$, for $w\\in\\mathcal{W}$, being $K$-Lipschitz for some $K$. If the supremum is attained for some $w$, then we have a calculation of $W(\\mathbb{P}_r, \\mathbb{P}_\\theta)$ up to a constant factor.\n",
    "\n",
    "Therefore, to approximate the Wasserstein distance, we will train a neural network to maximize the following objective function:\n",
    "\n",
    "$$\n",
    "\\max_{w\\in\\mathcal{W}} \\mathbb{E}_{x_1\\sim\\mathbb{P}_1}[f_w(x_1)] - \\mathbb{E}_{x_2\\sim\\mathbb{P}_2}[f_w(x_2)]\n",
    "$$\n",
    "\n",
    "The resulting value should be close to the \"true\" Wasserstein distance between the two distributions.\n",
    "\n",
    "### I.3. Numerical estimation\n",
    "\n",
    "In practice, denoting with $\\mathbb{\\hat E}$ the empirical mean operator, we will optimize numerically the empirical counterpart of this optimization program, that is:\n",
    "\n",
    "$$\n",
    "\\max_{w\\in\\mathcal{W}} \\mathbb{\\hat E}_{x_1\\sim\\mathbb{P}_1}[f_w(x_1)] - \\mathbb{\\hat E}_{x_2\\sim\\mathbb{P}_2}[f_w(x_2)]\n",
    "$$\n",
    "\n",
    "We will estimate the function $f_w$ as an MLP.\n",
    "\n",
    "Enforcing the 1-Lipschitz constraint can be done using various techniques:\n",
    "\n",
    "#### I.3.a. Clipping\n",
    "\n",
    "As proposed in the original WGAN paper, clipping the weights of the network is a simple way to ensure the constraint.\n",
    "\n",
    "Denoting $l_{w_1}, \\dots, l_{w_q}$ as the successive layers of the MLP, such that $f_w = l_{w_1} \\circ \\dots \\circ l_{w_q}$, and using ReLU (1-Lipschitz) activation, a sufficient way of ensuring 1-Lipschitz $f_w$ is to ensure each layer to be 1-Lispchitz.\n",
    "\n",
    "Then, a sufficient way of ensuring each linear layer $i$ to be 1-Lipschitz is to ensure $\\vert\\vert w_i\\vert\\vert_{\\infty} \\leq 1$. That is, clipping the weights to $[-1, 1]$ ensures the resulting estimate $f_w$ to be 1-Lipschitz.\n",
    "\n",
    "#### I.3.b. Penalization\n",
    "\n",
    "As proposed in other follow-up papers, another way to ensure the constraint is to penalize when the parameters do not respect it directly in the loss. \n",
    "\n",
    "That is, we then optimize on the following penalized optimization program:\n",
    "\n",
    "$$\\max_{w\\in\\mathcal{W}} \\mathbb{\\hat E}_{x_1\\sim\\mathbb{P}_1}[f_w(x_1)] - \\mathbb{\\hat E}_{x_2\\sim\\mathbb{P}_2}[f_w(x_2)] + \\lambda\\times \\vert\\vert w - 1(w)\\vert\\vert _2^2\n",
    "$$\n",
    "\n",
    "where $\\lambda$ is an additional hyperparameter that controls the amount of penalization given to the constraint, and $1(w)$ is an object of same size than $w$ constant to $1$.\n",
    "\n",
    "We explore both of these two methods in this notebook."
   ]
  },
  {
   "attachments": {},
   "cell_type": "markdown",
   "metadata": {},
   "source": [
    "## II. Packages import"
   ]
  },
  {
   "attachments": {},
   "cell_type": "markdown",
   "metadata": {},
   "source": [
    "We first import the necessary packages. And install OTT if necessary when running on Google Colab."
   ]
  },
  {
   "cell_type": "code",
   "execution_count": null,
   "metadata": {},
   "outputs": [],
   "source": [
    "import sys\n",
    "\n",
    "if \"google.colab\" in sys.modules:\n",
    "    print(\"Running on Colab\")\n",
    "    !pip install -q git+https://github.com/ott-jax/ott@main\n",
    "else:\n",
    "    print(\"Not running on Colab\")"
   ]
  },
  {
   "cell_type": "code",
   "execution_count": null,
   "metadata": {},
   "outputs": [],
   "source": [
    "from pathlib import Path\n",
    "\n",
    "import jax\n",
    "import jax.numpy as jnp\n",
    "import matplotlib.pyplot as plt\n",
    "import numpy as np\n",
    "import requests\n",
    "import spacy\n",
    "from bs4 import BeautifulSoup\n",
    "from jax import grad, jit, vmap\n",
    "from jax.example_libraries import optimizers, stax\n",
    "from jax.example_libraries.stax import Dense, Relu\n",
    "from ott.geometry import pointcloud\n",
    "from ott.problems.linear import linear_problem\n",
    "from ott.solvers.linear.sinkhorn import Sinkhorn\n",
    "from sklearn.linear_model import LinearRegression\n",
    "from tqdm import tqdm\n",
    "\n",
    "image_path = Path(\"images\")\n",
    "image_path.mkdir(exist_ok=True)"
   ]
  },
  {
   "attachments": {},
   "cell_type": "markdown",
   "metadata": {},
   "source": [
    "We use [OTT](https://ott-jax.readthedocs.io/en/latest/index.html) to compute the solution to the Optimal Transport problem. \n",
    "\n",
    "More generally, we use the [JAX](https://jax.readthedocs.io/en/latest/index.html) library for automatic differentiation and GPU acceleration. From the JAX library, we use the `stax` module that is a small but flexible neural net specification library from scratch. It is meant for examples, if we wanted to train bigger or more sophisticated models, we would use the `flax` library."
   ]
  },
  {
   "attachments": {},
   "cell_type": "markdown",
   "metadata": {},
   "source": [
    "## III. Sanity test: compare $\\mathcal{N}(0, 1)$ and $\\mathcal{N}(1, 1)$"
   ]
  },
  {
   "attachments": {},
   "cell_type": "markdown",
   "metadata": {},
   "source": [
    "We first run the method on a simple example: comparing the distributions $\\mathcal{N}(0, 1)$ and $\\mathcal{N}(1, 1)$, with a 2 layer neural network with 32 hidden units."
   ]
  },
  {
   "cell_type": "code",
   "execution_count": 6,
   "metadata": {},
   "outputs": [],
   "source": [
    "# Set random seed for reproducibility\n",
    "key = jax.random.PRNGKey(43)\n",
    "\n",
    "# 1-dimensional distributions\n",
    "d = 1\n",
    "\n",
    "# 2-layers neural net\n",
    "init_random_params, net = stax.serial(\n",
    "    Dense(out_dim=32),\n",
    "    Relu,\n",
    "    Dense(out_dim=1),\n",
    ")\n",
    "_, params = init_random_params(key, (-1, d))"
   ]
  },
  {
   "attachments": {},
   "cell_type": "markdown",
   "metadata": {},
   "source": [
    "We then define some functions needed to sample the distributions, to compute the loss and to force the weights to be 1-Lipschitz."
   ]
  },
  {
   "cell_type": "code",
   "execution_count": 3,
   "metadata": {},
   "outputs": [],
   "source": [
    "# normal sampling & empirical mean\n",
    "def sample_normal_1d(key, mean, std_dev, num_samples):\n",
    "    return jax.random.normal(key, (num_samples, 1)) * std_dev + mean\n",
    "\n",
    "\n",
    "def compute_empirical_mean(params, samples):\n",
    "    batched_net = vmap(net, in_axes=(None, 0))\n",
    "    outputs = batched_net(params, samples)\n",
    "    return outputs.mean()\n",
    "\n",
    "\n",
    "def sample_two_normals(key):\n",
    "    m1, s1 = 0, 1  # N(0, 1)\n",
    "    m2, s2 = 1, 1  # N(1, 1)\n",
    "\n",
    "    key1, key2 = jax.random.split(key)\n",
    "    m1, m2, s1, s2 = (\n",
    "        m1 * jnp.ones(1),\n",
    "        m2 * jnp.ones(1),\n",
    "        s1 * jnp.ones(1),\n",
    "        s2 * jnp.ones(1),\n",
    "    )\n",
    "    p1_samples = sample_normal_1d(key1, m1, s1, 512)\n",
    "    p2_samples = sample_normal_1d(key2, m2, s2, 512)\n",
    "\n",
    "    return p1_samples, p2_samples\n",
    "\n",
    "\n",
    "def loss(params, key):\n",
    "    \"\"\"\n",
    "    Samples normal distributions seeded with key, and outputs the estimate of the W1 distance w.r.t params\n",
    "    \"\"\"\n",
    "\n",
    "    p1_samples, p2_samples = sample_two_normals(key)\n",
    "\n",
    "    loss = compute_empirical_mean(params, p1_samples) - compute_empirical_mean(\n",
    "        params, p2_samples\n",
    "    )\n",
    "\n",
    "    return loss\n",
    "\n",
    "\n",
    "def clip_weights(params, clip_value=1.0):\n",
    "    return jax.tree_map(lambda w: jnp.clip(w, -clip_value, clip_value), params)\n",
    "\n",
    "\n",
    "def pen_loss(params, key, penalty_weight=1e2):\n",
    "    \"\"\"\n",
    "    Penalized loss to enforce the 1-Lipschitz constraint\n",
    "    \"\"\"\n",
    "\n",
    "    objective = loss(params, key)\n",
    "\n",
    "    pen = 0.0\n",
    "    weights = params[::2]\n",
    "    for layer in weights:\n",
    "        for weight in layer:\n",
    "            pen += ((1 - jnp.linalg.norm(weight, axis=0, keepdims=True)) ** 2).sum()\n",
    "\n",
    "    # Add the penalties to the objective with a weight\n",
    "    total_loss = objective + penalty_weight * pen\n",
    "\n",
    "    return total_loss"
   ]
  },
  {
   "attachments": {},
   "cell_type": "markdown",
   "metadata": {},
   "source": [
    "We then run the experiment for 1000 iterations with a learning rate of 0.01."
   ]
  },
  {
   "cell_type": "code",
   "execution_count": 5,
   "metadata": {},
   "outputs": [],
   "source": [
    "# Hyperparameters\n",
    "\n",
    "rms = True  # whether to use rms (True) or gradient descent (False)\n",
    "pen = True  # whether to use penalization (True) or weight clipping (False)\n",
    "\n",
    "losses = []\n",
    "learning_rate = 0.01\n",
    "num_iterations = 1000"
   ]
  },
  {
   "cell_type": "code",
   "execution_count": 6,
   "metadata": {},
   "outputs": [
    {
     "data": {
      "text/plain": [
       "[<matplotlib.lines.Line2D at 0x1579b7160>]"
      ]
     },
     "execution_count": 6,
     "metadata": {},
     "output_type": "execute_result"
    },
    {
     "data": {
      "image/png": "[encoded data removed]",
      "text/plain": [
       "<Figure size 640x480 with 1 Axes>"
      ]
     },
     "metadata": {},
     "output_type": "display_data"
    }
   ],
   "source": [
    "# Training\n",
    "\n",
    "# Define the gradient function\n",
    "grad_loss = jit(grad(loss)) if not pen else jit(grad(pen_loss))\n",
    "\n",
    "if rms:\n",
    "    opt_init, opt_update, get_params = optimizers.rmsprop(learning_rate)\n",
    "    opt_state = opt_init(params)\n",
    "\n",
    "    @jit\n",
    "    def step(i, opt_state, key):\n",
    "        params = get_params(opt_state)\n",
    "        params_grad = grad_loss(params, key)\n",
    "        return opt_update(i, params_grad, opt_state)\n",
    "\n",
    "\n",
    "# Optimization loop\n",
    "for i in range(num_iterations):\n",
    "    key, subkey = jax.random.split(key)\n",
    "\n",
    "    if rms:\n",
    "        opt_state = step(i, opt_state, subkey)\n",
    "        params = get_params(opt_state)\n",
    "\n",
    "    else:\n",
    "        params_grad = grad_loss(params, subkey)\n",
    "        learning_rate = 1 - i / num_iterations  # linear decrease lr from 1 to 0\n",
    "        params = jax.tree_map(lambda p, g: p - learning_rate * g, params, params_grad)\n",
    "\n",
    "    if not pen:\n",
    "        params = clip_weights(params)\n",
    "\n",
    "    if i % 10 == 0:\n",
    "        current_loss = loss(params, subkey)\n",
    "        losses.append(abs(current_loss.tolist()))\n",
    "        # print(f\"Iteration {i}, Loss: {current_loss:.4f}\")\n",
    "\n",
    "fig, ax = plt.subplots()\n",
    "ax.plot(np.arange(len(losses)), losses)\n",
    "ax.set(xlabel=\"Iteration\", ylabel=\"Loss\", title=\"Loss over iterations\")\n",
    "fig.savefig(str(image_path / \"1d_loss_evolution.png\"))\n",
    "plt.show()"
   ]
  },
  {
   "attachments": {},
   "cell_type": "markdown",
   "metadata": {},
   "source": [
    "We notice that the loss stabilizes around 3.5 after a few iterations.\n",
    "\n",
    "We then check that the weights are indeed clipped to $[-1, 1]$. We see that the maximum weight is really close to 1, this is good as it shows that the penalization is working as intended."
   ]
  },
  {
   "cell_type": "code",
   "execution_count": 7,
   "metadata": {},
   "outputs": [
    {
     "data": {
      "text/plain": [
       "Array(1.0054444, dtype=float32)"
      ]
     },
     "execution_count": 7,
     "metadata": {},
     "output_type": "execute_result"
    }
   ],
   "source": [
    "weights = params[::2]\n",
    "max_weight = max([jnp.max(jnp.abs(tuple)) for w in weights for tuple in w])\n",
    "max_weight"
   ]
  },
  {
   "attachments": {},
   "cell_type": "markdown",
   "metadata": {},
   "source": [
    "# IV. Experiment with low-complexity distributions"
   ]
  },
  {
   "cell_type": "code",
   "execution_count": 8,
   "metadata": {},
   "outputs": [
    {
     "name": "stderr",
     "output_type": "stream",
     "text": [
      "50it [18:32, 22.25s/it]\n"
     ]
    }
   ],
   "source": [
    "d = 2\n",
    "means = np.linspace(-10, 10, 50)\n",
    "res = np.zeros(shape=(len(means), len(means)))\n",
    "\n",
    "for idx, mean1 in tqdm(enumerate(means)):\n",
    "    for idy, mean2 in enumerate(means):\n",
    "        init_random_params, net = stax.serial(\n",
    "            Dense(32),\n",
    "            Relu,\n",
    "            Dense(1),\n",
    "        )\n",
    "        _, params = init_random_params(key, (-1, d))\n",
    "\n",
    "        def sample_normal(key, mean, std_dev, num_samples, d=2):\n",
    "            return jax.random.normal(key, (num_samples, d)) * std_dev + mean\n",
    "\n",
    "        def compute_empirical_mean(params, samples):\n",
    "            batched_net = vmap(net, in_axes=(None, 0))\n",
    "            outputs = batched_net(params, samples)\n",
    "            return outputs.mean()\n",
    "\n",
    "        def loss(params, key, m2=jnp.array([[mean1, mean2]]), s2=jnp.array([[1, 1]])):\n",
    "            m1, s1 = jnp.array([[0, 0]]), jnp.array([[1, 1]])\n",
    "\n",
    "            key1, key2 = jax.random.split(key)\n",
    "            p1_samples = sample_normal(key1, m1, s1, 512)\n",
    "            p2_samples = sample_normal(key2, m2, s2, 512)\n",
    "\n",
    "            return compute_empirical_mean(params, p1_samples) - compute_empirical_mean(\n",
    "                params, p2_samples\n",
    "            )\n",
    "\n",
    "        def clip_weights(params, clip_value=1.0):\n",
    "            return jax.tree_map(lambda w: jnp.clip(w, -clip_value, clip_value), params)\n",
    "\n",
    "        def pen_loss(params, key, penalty_weight=1e2):\n",
    "            objective = loss(params, key)\n",
    "\n",
    "            # Compute the penalty\n",
    "            pen = 0.0\n",
    "            weights = params[::2]\n",
    "            for layer in weights:\n",
    "                for weight in layer:\n",
    "                    pen += (\n",
    "                        (1 - jnp.linalg.norm(weight, axis=0, keepdims=True)) ** 2\n",
    "                    ).sum()\n",
    "\n",
    "            # Add the penalties to the objective with a weight\n",
    "            total_loss = objective + penalty_weight * pen\n",
    "\n",
    "            return total_loss\n",
    "\n",
    "        losses = []\n",
    "        learning_rate = 0.01\n",
    "        num_iterations = 500\n",
    "\n",
    "        # Define the gradient function\n",
    "        grad_loss = jit(grad(pen_loss))\n",
    "\n",
    "        opt_init, opt_update, get_params = optimizers.rmsprop(learning_rate)\n",
    "        opt_state = opt_init(params)\n",
    "\n",
    "        @jit\n",
    "        def step(i, opt_state, key):\n",
    "            params = get_params(opt_state)\n",
    "            params_grad = grad_loss(params, key)\n",
    "            return opt_update(i, params_grad, opt_state)\n",
    "\n",
    "        # Optimization loop\n",
    "        for i in range(num_iterations):\n",
    "            key, subkey = jax.random.split(key)\n",
    "\n",
    "            opt_state = step(i, opt_state, subkey)\n",
    "            params = get_params(opt_state)\n",
    "\n",
    "            if i % 10 == 0:\n",
    "                current_loss = loss(params, subkey)\n",
    "                losses.append(abs(current_loss.tolist()))\n",
    "\n",
    "        res[idx, idy] = np.array(losses[15:]).mean()"
   ]
  },
  {
   "cell_type": "code",
   "execution_count": 11,
   "metadata": {},
   "outputs": [
    {
     "name": "stdout",
     "output_type": "stream",
     "text": [
      "50it [00:42,  1.17it/s]\n"
     ]
    }
   ],
   "source": [
    "res2 = np.zeros(shape=(len(means), len(means)))\n",
    "\n",
    "mainkey = jax.random.PRNGKey(1)\n",
    "for idx, mean1 in tqdm(enumerate(means)):\n",
    "    for idy, mean2 in enumerate(means):\n",
    "\n",
    "        def sample_normal(key, mean, std_dev, num_samples):\n",
    "            return jax.random.normal(key, (num_samples, d)) * std_dev + mean\n",
    "\n",
    "        m1, s1 = jnp.array([[0, 0]]), jnp.array([[1, 1]])\n",
    "        m2, s2 = jnp.array([[mean1, mean2]]), jnp.array([[1, 1]])\n",
    "\n",
    "        mainkey, key1, key2 = jax.random.split(mainkey, 3)\n",
    "\n",
    "        p1_samples = sample_normal(key1, m1, s1, 512)\n",
    "        p2_samples = sample_normal(key2, m2, s2, 512)\n",
    "\n",
    "        geom = pointcloud.PointCloud(p1_samples, p2_samples)\n",
    "\n",
    "        ot_prob = linear_problem.LinearProblem(geom)\n",
    "        solver = Sinkhorn(norm_error=1)\n",
    "        ot = solver(ot_prob)\n",
    "\n",
    "        res2[idx, idy] = ot.reg_ot_cost"
   ]
  },
  {
   "cell_type": "code",
   "execution_count": 13,
   "metadata": {},
   "outputs": [
    {
     "data": {
      "image/png": "[encoded data removed]",
      "text/plain": [
       "<Figure size 640x480 with 2 Axes>"
      ]
     },
     "metadata": {},
     "output_type": "display_data"
    }
   ],
   "source": [
    "fig, axes = plt.subplots(1, 2)\n",
    "\n",
    "axes[0].imshow(res2, cmap=\"Accent\")\n",
    "axes[1].imshow(res, cmap=\"Accent\")\n",
    "\n",
    "# Set titles for the subplots\n",
    "axes[0].set(title=\"Sinkhorn OTT\", xticks=[], yticks=[])\n",
    "axes[1].set(title=\"NN estimate of W1\", xticks=[], yticks=[])\n",
    "fig.suptitle(\"Comparaison of W1 and Sinkhorn\")\n",
    "fig.tight_layout()\n",
    "fig.savefig(str(image_path / \"2d_sinkhorn_vs_nn.png\"))\n",
    "\n",
    "\n",
    "# Show the plot\n",
    "plt.show()"
   ]
  },
  {
   "attachments": {},
   "cell_type": "markdown",
   "metadata": {},
   "source": [
    "# V. More complex distributions - application to NLP embeddings of synonyms"
   ]
  },
  {
   "attachments": {},
   "cell_type": "markdown",
   "metadata": {},
   "source": [
    "We will now consider harder distributions to see how the approximation of W1 distance scales both with ambiant distribution dimension and complexity. "
   ]
  },
  {
   "cell_type": "code",
   "execution_count": 31,
   "metadata": {},
   "outputs": [],
   "source": [
    "# !pip install spacy\n",
    "# !pip install beautifulsoup4\n",
    "# !python -m spacy download fr_core_news_lg"
   ]
  },
  {
   "attachments": {},
   "cell_type": "markdown",
   "metadata": {},
   "source": [
    "We first select ten French words having diverse meanings and a lot of synonyms"
   ]
  },
  {
   "cell_type": "code",
   "execution_count": 198,
   "metadata": {},
   "outputs": [],
   "source": [
    "vocabulary = [\n",
    "    \"grand\",\n",
    "    \"petit\",\n",
    "    \"rapide\",\n",
    "    \"lent\",\n",
    "    \"beau\",\n",
    "    \"triste\",\n",
    "    \"content\",\n",
    "    \"riche\",\n",
    "    \"facile\",\n",
    "    \"difficile\",\n",
    "]\n",
    "vocab_size = len(vocabulary)"
   ]
  },
  {
   "attachments": {},
   "cell_type": "markdown",
   "metadata": {},
   "source": [
    "We collect words associated with these words, that is, their synonyms."
   ]
  },
  {
   "cell_type": "code",
   "execution_count": 199,
   "metadata": {},
   "outputs": [
    {
     "name": "stdout",
     "output_type": "stream",
     "text": [
      "Mean size of the samples: 181.4\n"
     ]
    }
   ],
   "source": [
    "distributions = dict()\n",
    "for word in vocabulary:\n",
    "    url = f\"http://www.synonymo.fr/synonyme/{word}\"\n",
    "\n",
    "    response = requests.get(url)\n",
    "    if response.status_code == 200:\n",
    "        soup = BeautifulSoup(response.text, \"html.parser\")\n",
    "        synos_list = soup.select(\"ul.synos > li > a\")\n",
    "        synonyms = [syno.text for syno in synos_list]\n",
    "\n",
    "        distributions[word] = synonyms\n",
    "    else:\n",
    "        print(\"Scraping error.\")\n",
    "\n",
    "# distributions sizes\n",
    "\n",
    "dist_sizes = {k: len(v) for k, v in distributions.items()}\n",
    "print(f\"Mean size of the samples: {sum(dist_sizes.values())/10}\")"
   ]
  },
  {
   "attachments": {},
   "cell_type": "markdown",
   "metadata": {},
   "source": [
    "We use pretrained high-dimensional embeddings to map these words to 300-dim vectors. We will consider 10 distributions, where each distribution is formed with the synonym embeddings of one of the 10 selected words."
   ]
  },
  {
   "cell_type": "code",
   "execution_count": 200,
   "metadata": {},
   "outputs": [],
   "source": [
    "# Load pretrained language model\n",
    "\n",
    "\n",
    "nlp = spacy.load(\"fr_core_news_lg\")\n",
    "\n",
    "\n",
    "def get_word_embedding(word):\n",
    "    token = nlp(word)\n",
    "    vec = token.vector\n",
    "    return jnp.array(vec)\n",
    "\n",
    "\n",
    "distributions = {\n",
    "    k: jnp.array(list(map(get_word_embedding, v))) for k, v in distributions.items()\n",
    "}"
   ]
  },
  {
   "attachments": {},
   "cell_type": "markdown",
   "metadata": {},
   "source": [
    "## V.1. Compute pairwise Sinkhorn OTT distances"
   ]
  },
  {
   "cell_type": "code",
   "execution_count": 122,
   "metadata": {},
   "outputs": [
    {
     "name": "stderr",
     "output_type": "stream",
     "text": [
      "100%|██████████| 10/10 [00:58<00:00,  5.87s/it]\n"
     ]
    }
   ],
   "source": [
    "# Compute pairwise ott-jax sinkhorn distance\n",
    "\n",
    "res_words_sinkhorn = np.zeros((vocab_size, vocab_size))\n",
    "\n",
    "for idx in tqdm(np.arange(vocab_size)):\n",
    "    for idy in np.arange(vocab_size):\n",
    "        wordx, wordy = vocabulary[idx], vocabulary[idy]\n",
    "\n",
    "        embeddingsx = distributions[wordx]\n",
    "        embeddingsy = distributions[wordy]\n",
    "\n",
    "        geom = pointcloud.PointCloud(embeddingsx, embeddingsy)\n",
    "\n",
    "        ot_prob = linear_problem.LinearProblem(geom)\n",
    "        solver = Sinkhorn(norm_error=1)\n",
    "        ot = solver(ot_prob)\n",
    "\n",
    "        res_words_sinkhorn[idx, idy] = ot.reg_ot_cost"
   ]
  },
  {
   "attachments": {},
   "cell_type": "markdown",
   "metadata": {},
   "source": [
    "## V.2. Compute pairwise W1 NN estimate distances"
   ]
  },
  {
   "cell_type": "code",
   "execution_count": 194,
   "metadata": {},
   "outputs": [],
   "source": [
    "def sample_from_word(key, word, num_samples):\n",
    "    card = dist_sizes[word]\n",
    "    indexs = jax.random.choice(key, jnp.arange(card), shape=(num_samples,))\n",
    "    return distributions[word][indexs]"
   ]
  },
  {
   "cell_type": "code",
   "execution_count": 207,
   "metadata": {},
   "outputs": [],
   "source": [
    "# Compute pairwise wgan w1 distance\n",
    "\n",
    "res_words_nn = np.zeros((vocab_size, vocab_size))\n",
    "\n",
    "# Set random seed for reproducibility\n",
    "key = jax.random.PRNGKey(43)\n",
    "\n",
    "d = 300\n",
    "\n",
    "# 2-layers neural net\n",
    "init_random_params, net = stax.serial(\n",
    "    Dense(32),\n",
    "    Relu,\n",
    "    Dense(32),\n",
    "    Relu,\n",
    "    Dense(1),\n",
    ")\n",
    "_, params = init_random_params(key, (-1, d))\n",
    "\n",
    "\n",
    "def compute_empirical_mean(params, samples):\n",
    "    batched_net = vmap(net, in_axes=(None, 0))\n",
    "    outputs = batched_net(params, samples)\n",
    "    return outputs.mean()"
   ]
  },
  {
   "cell_type": "code",
   "execution_count": 208,
   "metadata": {},
   "outputs": [],
   "source": [
    "def loss(params, p1_samples, p2_samples):\n",
    "    return compute_empirical_mean(params, p1_samples) - compute_empirical_mean(\n",
    "        params, p2_samples\n",
    "    )\n",
    "\n",
    "\n",
    "def pen_loss(params, ind_word_1, ind_word_2, penalty_weight=1e2):\n",
    "    \"\"\"\n",
    "    Penalized loss to enforce the 1-Lipschitz constraint\n",
    "    \"\"\"\n",
    "\n",
    "    objective = loss(params, ind_word_1, ind_word_2)\n",
    "\n",
    "    pen = 0.0\n",
    "    weights = params[::2]\n",
    "    for layer in weights:\n",
    "        for weight in layer:\n",
    "            pen += ((1 - jnp.linalg.norm(weight, axis=0, keepdims=True)) ** 2).sum()\n",
    "\n",
    "    # Add the penalties to the objective with a weight\n",
    "    total_loss = objective + penalty_weight * pen\n",
    "\n",
    "    return total_loss"
   ]
  },
  {
   "cell_type": "code",
   "execution_count": 209,
   "metadata": {},
   "outputs": [
    {
     "name": "stderr",
     "output_type": "stream",
     "text": [
      "100%|██████████| 10/10 [01:51<00:00, 11.13s/it]\n"
     ]
    }
   ],
   "source": [
    "# Training\n",
    "\n",
    "learning_rate = 0.01\n",
    "num_iterations = 500\n",
    "\n",
    "for ind_word_1 in tqdm(range(vocab_size)):\n",
    "    for ind_word_2 in range(vocab_size):\n",
    "        losses = []\n",
    "\n",
    "        # Define the gradient function\n",
    "        grad_loss = jit(grad(pen_loss))\n",
    "\n",
    "        opt_init, opt_update, get_params = optimizers.rmsprop(learning_rate)\n",
    "        opt_state = opt_init(params)\n",
    "\n",
    "        @jit\n",
    "        # def step(i, opt_state, key, ind_word_1, ind_word_2):\n",
    "        def step(i, opt_state, p1, p2):\n",
    "            params = get_params(opt_state)\n",
    "            params_grad = grad_loss(params, p1, p2)\n",
    "            return opt_update(i, params_grad, opt_state)\n",
    "\n",
    "        # Optimization loop\n",
    "        for i in range(num_iterations):\n",
    "            key, subkey = jax.random.split(key)\n",
    "\n",
    "            word1, word2 = vocabulary[ind_word_1], vocabulary[ind_word_2]\n",
    "\n",
    "            key1, key2 = jax.random.split(subkey)\n",
    "            p1_samples = sample_from_word(key1, word1, 32)\n",
    "            p2_samples = sample_from_word(key2, word2, 32)\n",
    "\n",
    "            # opt_state = step(i, opt_state, subkey, ind_word_1, ind_word_2)\n",
    "            opt_state = step(i, opt_state, p1_samples, p2_samples)\n",
    "            params = get_params(opt_state)\n",
    "\n",
    "            if i % 10 == 0:\n",
    "                current_loss = loss(params, p1_samples, p2_samples)\n",
    "                losses.append(abs(current_loss.tolist()))\n",
    "                # print(f\"Iteration {i}, Loss: {current_loss:.4f}\")\n",
    "\n",
    "        # plt.plot(np.arange(len(losses)), losses)\n",
    "        res_words_nn[ind_word_1, ind_word_2] = np.array(losses[15:]).mean()"
   ]
  },
  {
   "attachments": {},
   "cell_type": "markdown",
   "metadata": {},
   "source": [
    "## V.3. Compare the pairwise distances"
   ]
  },
  {
   "cell_type": "code",
   "execution_count": 202,
   "metadata": {},
   "outputs": [
    {
     "data": {
      "image/png": "[encoded data removed]",
      "text/plain": [
       "<Figure size 640x480 with 2 Axes>"
      ]
     },
     "metadata": {},
     "output_type": "display_data"
    }
   ],
   "source": [
    "fig, axes = plt.subplots(1, 2)\n",
    "\n",
    "axes[0].imshow(res_words_sinkhorn, cmap=\"Accent\")\n",
    "axes[1].imshow(res_words_nn, cmap=\"Accent\")\n",
    "\n",
    "# Set titles for the subplots\n",
    "axes[0].set_title(\"Sinkhorn OTT\")\n",
    "axes[1].set_title(\"NN estimate of W1\")\n",
    "\n",
    "# Remove axis ticks\n",
    "axes[0].set_xticks([])\n",
    "axes[0].set_yticks([])\n",
    "axes[1].set_xticks([])\n",
    "axes[1].set_yticks([])\n",
    "\n",
    "# Show the plot\n",
    "plt.show()"
   ]
  },
  {
   "attachments": {},
   "cell_type": "markdown",
   "metadata": {},
   "source": [
    "The two matrixes seem to have differing structures. The Sinkhorn pairwise matrix seem to respect better the symetry condition we might expect, as opposed to the NN estimate, where this condition does not seem to be verified. Overall, the results do not look as promising as with the simpler, lower-dimensional normal distributions."
   ]
  },
  {
   "cell_type": "code",
   "execution_count": 175,
   "metadata": {},
   "outputs": [
    {
     "data": {
      "text/plain": [
       "0.7104833186003237"
      ]
     },
     "execution_count": 175,
     "metadata": {},
     "output_type": "execute_result"
    }
   ],
   "source": [
    "np.corrcoef(res_words_nn.flatten(), res_words_sinkhorn.flatten())[0, 1]"
   ]
  },
  {
   "cell_type": "code",
   "execution_count": 172,
   "metadata": {},
   "outputs": [
    {
     "name": "stdout",
     "output_type": "stream",
     "text": [
      "Intercept: 403.28424707738503\n",
      "Slope: 10.976569956116942\n"
     ]
    }
   ],
   "source": [
    "# Train the linear regression model\n",
    "x, y = res_words_nn.reshape((-1, 1)), res_words_sinkhorn.flatten()\n",
    "\n",
    "model = LinearRegression()\n",
    "model.fit(x, y)\n",
    "\n",
    "# Make predictions\n",
    "predictions = model.predict(x)\n",
    "\n",
    "# Print the model coefficients\n",
    "print(\"Intercept:\", model.intercept_)\n",
    "print(\"Slope:\", model.coef_[0])"
   ]
  },
  {
   "cell_type": "code",
   "execution_count": 174,
   "metadata": {},
   "outputs": [
    {
     "data": {
      "text/plain": [
       "0.5047865460093288"
      ]
     },
     "execution_count": 174,
     "metadata": {},
     "output_type": "execute_result"
    }
   ],
   "source": [
    "model.score(x, y)"
   ]
  }
 ],
 "metadata": {
  "kernelspec": {
   "display_name": ".venv",
   "language": "python",
   "name": "python3"
  },
  "language_info": {
   "codemirror_mode": {
    "name": "ipython",
    "version": 3
   },
   "file_extension": ".py",
   "mimetype": "text/x-python",
   "name": "python",
   "nbconvert_exporter": "python",
   "pygments_lexer": "ipython3",
   "version": "3.10.10"
  },
  "orig_nbformat": 4
 },
 "nbformat": 4,
 "nbformat_minor": 2
}
